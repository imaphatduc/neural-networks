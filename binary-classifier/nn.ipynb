{
 "cells": [
  {
   "cell_type": "code",
   "execution_count": 1,
   "metadata": {},
   "outputs": [],
   "source": [
    "import numpy as np\n",
    "from matplotlib import pyplot as plt\n",
    "from utils.load_dataset import load_dataset\n",
    "from utils.init_params import initialize_parameters\n",
    "from utils.train import train\n",
    "from utils.predict import predict"
   ]
  },
  {
   "cell_type": "code",
   "execution_count": 2,
   "metadata": {},
   "outputs": [],
   "source": [
    "(train_set_x_orig, train_set_y), (test_set_x_orig, test_set_y) = load_dataset()\n",
    "\n",
    "# Train dataset\n",
    "\n",
    "m_train, num_px, num_px, n_channels = train_set_x_orig.shape\n",
    "\n",
    "train_set_x = train_set_x_orig.reshape(num_px * num_px * n_channels, m_train)\n",
    "\n",
    "train_set_x = train_set_x / np.max(np.abs(train_set_x_orig))\n",
    "train_set_y = train_set_y.reshape(m_train, 1).T\n",
    "\n",
    "p = np.random.permutation(train_set_x.shape[1])\n",
    "\n",
    "train_set_x = train_set_x[:, p]\n",
    "train_set_y = train_set_y[:, p]\n",
    "\n",
    "# Test dataset\n",
    "\n",
    "m_test, num_px, num_px, n_channels = test_set_x_orig.shape\n",
    "\n",
    "test_set_x = test_set_x_orig.reshape(num_px * num_px * n_channels, m_test)\n",
    "\n",
    "test_set_x = test_set_x / np.max(np.abs(test_set_x_orig))\n",
    "test_set_y = test_set_y.reshape(m_test, 1).T\n",
    "\n",
    "p = np.random.permutation(test_set_x.shape[1])\n",
    "\n",
    "test_set_x = test_set_x[:, p]\n",
    "test_set_y = test_set_y[:, p]"
   ]
  },
  {
   "cell_type": "code",
   "execution_count": 3,
   "metadata": {},
   "outputs": [],
   "source": [
    "parameters = initialize_parameters((train_set_x.shape[0], 20, 7, 1))"
   ]
  },
  {
   "cell_type": "code",
   "execution_count": 4,
   "metadata": {},
   "outputs": [
    {
     "name": "stdout",
     "output_type": "stream",
     "text": [
      "Cost after 0 iterations: 0.6869955553275382\n",
      "Cost after 100 iterations: 0.020581754188385214\n",
      "Cost after 200 iterations: 0.005812664612190006\n",
      "Cost after 300 iterations: 0.0029479258492406727\n",
      "Cost after 400 iterations: 0.0018612838946455658\n",
      "Cost after 500 iterations: 0.001318408934336177\n",
      "Cost after 600 iterations: 0.0010023497327007137\n",
      "Cost after 700 iterations: 0.0007989842634506179\n",
      "Cost after 800 iterations: 0.0006587168742986021\n",
      "Cost after 900 iterations: 0.0005569354683469156\n",
      "Cost after 1000 iterations: 0.00048013580889455396\n",
      "Cost after 1100 iterations: 0.00042040130833614556\n",
      "Cost after 1200 iterations: 0.0003727815027487547\n",
      "Cost after 1300 iterations: 0.00033404387688995736\n",
      "Cost after 1400 iterations: 0.0003019894638973434\n",
      "Cost after 1500 iterations: 0.0002750795579049097\n",
      "Cost after 1600 iterations: 0.0002522064982223994\n",
      "Cost after 1700 iterations: 0.00023255380862504833\n",
      "Cost after 1800 iterations: 0.00021550749931664192\n",
      "Cost after 1900 iterations: 0.0002005976548759172\n",
      "Cost after 2000 iterations: 0.00018745831902714841\n",
      "Cost after 2100 iterations: 0.00017580198921495814\n",
      "Cost after 2200 iterations: 0.00016540889400972847\n",
      "Cost after 2300 iterations: 0.00015608248040177174\n",
      "Cost after 2400 iterations: 0.00014767053202169225\n"
     ]
    }
   ],
   "source": [
    "num_iterations = 2500\n",
    "learning_rate = 0.09\n",
    "\n",
    "parameters_updated, costs = train(train_set_x, train_set_y, parameters,\n",
    "                                  num_iterations=num_iterations, learning_rate=learning_rate,\n",
    "                                  print_cost=True)"
   ]
  },
  {
   "cell_type": "code",
   "execution_count": 9,
   "metadata": {},
   "outputs": [],
   "source": [
    "train_Y_prediction = predict(train_set_x, parameters_updated)"
   ]
  },
  {
   "cell_type": "code",
   "execution_count": 10,
   "metadata": {},
   "outputs": [],
   "source": [
    "test_Y_prediction = predict(test_set_x, parameters_updated)"
   ]
  },
  {
   "cell_type": "code",
   "execution_count": 11,
   "metadata": {},
   "outputs": [
    {
     "name": "stdout",
     "output_type": "stream",
     "text": [
      "It is a cat\n"
     ]
    },
    {
     "data": {
      "image/png": "[encoded data removed]",
      "text/plain": [
       "<Figure size 432x288 with 1 Axes>"
      ]
     },
     "metadata": {
      "needs_background": "light"
     },
     "output_type": "display_data"
    }
   ],
   "source": [
    "test_index = 42\n",
    "\n",
    "plt.imshow(test_set_x_orig[test_index])\n",
    "\n",
    "test_result = test_Y_prediction[0][test_index]\n",
    "\n",
    "message = \"It is a dog\" if int(test_result) else \"It is a cat\"\n",
    "\n",
    "print(message)"
   ]
  },
  {
   "cell_type": "code",
   "execution_count": 12,
   "metadata": {},
   "outputs": [
    {
     "data": {
      "image/png": "[encoded data removed]",
      "text/plain": [
       "<Figure size 432x288 with 1 Axes>"
      ]
     },
     "metadata": {
      "needs_background": "light"
     },
     "output_type": "display_data"
    }
   ],
   "source": [
    "plt.plot(costs)\n",
    "plt.xlabel(\"Number of iterations\")\n",
    "plt.ylabel(\"Cost\")\n",
    "plt.title(f\"learning rate = {learning_rate}\")\n",
    "plt.show()"
   ]
  },
  {
   "cell_type": "code",
   "execution_count": 14,
   "metadata": {},
   "outputs": [
    {
     "name": "stdout",
     "output_type": "stream",
     "text": [
      "Train acuracy: 100.0 %\n",
      "Test acuracy: 53.13890261987147 %\n"
     ]
    }
   ],
   "source": [
    "print(f\"Train acuracy: {100 - np.mean(np.abs(train_Y_prediction - train_set_y)) * 100} %\")\n",
    "print(f\"Test acuracy: {100 - np.mean(np.abs(test_Y_prediction - test_set_y)) * 100} %\")"
   ]
  }
 ],
 "metadata": {
  "interpreter": {
   "hash": "e7370f93d1d0cde622a1f8e1c04877d8463912d04d973331ad4851f04de6915a"
  },
  "kernelspec": {
   "display_name": "Python 3.10.4 64-bit",
   "language": "python",
   "name": "python3"
  },
  "language_info": {
   "codemirror_mode": {
    "name": "ipython",
    "version": 3
   },
   "file_extension": ".py",
   "mimetype": "text/x-python",
   "name": "python",
   "nbconvert_exporter": "python",
   "pygments_lexer": "ipython3",
   "version": "3.10.4"
  },
  "orig_nbformat": 4
 },
 "nbformat": 4,
 "nbformat_minor": 2
}
